{
 "cells": [
  {
   "cell_type": "markdown",
   "metadata": {},
   "source": [
    "# Fuzzy Clustering"
   ]
  },
  {
   "cell_type": "code",
   "execution_count": null,
   "metadata": {},
   "outputs": [],
   "source": [
    "import pandas as pd\n",
    "import numpy as np\n",
    "import numpy as np\n",
    "import logging\n",
    "from fuzzy_clustering import FCM\n",
    "from visualization import draw_model_2d\n",
    "from sklearn import preprocessing\n",
    "\n",
    "\n",
    "dataset = pd.read_csv(\"AirlinesCluster.csv\") #Importing the airlines data\n",
    "\n",
    "dataset1 = dataset.copy() #Making a copy so that original data remains unaffected\n",
    "\n",
    "dataset1 = dataset1[[\"Balance\", \"BonusMiles\"]][:500] #Selecting only first 500 rows for faster computation\n",
    "\n",
    "\n",
    "dataset1_standardized = preprocessing.scale(dataset1) #Standardizing the data to scale it between the upper and lower limit of 1 and 0\n",
    "\n",
    "dataset1_standardized = pd.DataFrame(dataset1_standardized)\n",
    "\n",
    "fcm.set_logger(tostdout=False) #Telling the package class to stop the unnecessary output\n",
    "\n",
    "fcm = FCM(n_clusters=5) #Defining k=5\n",
    "\n",
    "fcm.fit(dataset1_standardized) #Training on data\n",
    "\n",
    "predicted_membership = fcm.predict(np.array(dataset1_standardized)) #Testing on same data\n",
    "\n",
    "draw_model_2d(fcm, data=np.array(dataset1_standardized), membership=predicted_membership) #Visualizing the data"
   ]
  },
  {
   "cell_type": "markdown",
   "metadata": {},
   "source": [
    "# Fuzzy Adaptive Resonance Theory"
   ]
  },
  {
   "cell_type": "code",
   "execution_count": null,
   "metadata": {},
   "outputs": [],
   "source": [
    "from functools import partial\n",
    "import numpy as np\n",
    "import FuzzyART as f\n",
    "import sklearn.datasets as ds\n",
    "\n",
    "l1_norm = partial(np.linalg.norm, ord=1, axis=-1)#Used for regularization so that we can penalize the parameters that are not important\n",
    "\n",
    "if __name__ == '__main__': \n",
    "\n",
    "    iris = ds.load_iris()#load the dataset in the python environment\n",
    "\n",
    "data = iris['data'] / np.max(iris['data'], axis=0)#standardize the dataset\n",
    "\n",
    "net = f.FuzzyART(alpha=0.5, rho=0.5) #Initialize the FuzzyART Hyperparameters\n",
    "\n",
    "    net.train(data, epochs=100) #Train on the data\n",
    "\n",
    "    print(net.test(data).astype(int)) #Print the Cluster Results\n",
    "\n",
    "    print(iris['target']) #Match the cluster results"
   ]
  }
 ],
 "metadata": {
  "kernelspec": {
   "display_name": "ADP",
   "language": "python",
   "name": "adp"
  },
  "language_info": {
   "codemirror_mode": {
    "name": "ipython",
    "version": 3
   },
   "file_extension": ".py",
   "mimetype": "text/x-python",
   "name": "python",
   "nbconvert_exporter": "python",
   "pygments_lexer": "ipython3",
   "version": "3.7.4"
  }
 },
 "nbformat": 4,
 "nbformat_minor": 2
}
