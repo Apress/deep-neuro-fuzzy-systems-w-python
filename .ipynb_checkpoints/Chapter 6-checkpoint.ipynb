{
 "cells": [
  {
   "cell_type": "markdown",
   "metadata": {},
   "source": [
    "# Adaptive Neuro Fuzzy Inference System"
   ]
  },
  {
   "cell_type": "code",
   "execution_count": null,
   "metadata": {},
   "outputs": [],
   "source": [
    "# Importing necessary libraries\n",
    "import anfis\n",
    "from anfis.membership import membershipfunction, mfDerivs\n",
    "import numpy\n",
    "training_data = numpy.loadtxt(\"training.txt\", usecols=[1,2,3])\n",
    "X = training_data [:,0:2]\n",
    "Y = training_data [:,2]\n",
    "# Defining the Membership Functions\n",
    "mf = [[['gaussmf',{'mean':0.,'sigma':1.}],['gaussmf',{'mean':-1.,'sigma':2.}],['gaussmf',{'mean':-4.,'sigma':10.}],['gaussmf',{'mean':-7.,'sigma':7.}]], [['gaussmf',{'mean':1.,'sigma':2.}],['gaussmf',{'mean':2.,'sigma':3.}],['gaussmf',{'mean':-2.,'sigma':10.}],['gaussmf',{'mean':-10.5,'sigma':5.}]]]\n",
    "# Updating the model with Membership Functions\n",
    "mfc = membershipfunction.MemFuncs(mf)\n",
    "# Creating the ANFIS Model Object\n",
    "anf = anfis.ANFIS(X, Y, mfc)\n",
    "# Fitting the ANFIS Model\n",
    "anf.trainHybridJangOffLine(epochs=20)\n",
    "# Printing Output\n",
    "print(round(anf.consequents[-1][0],6))\n",
    "print(round(anf.consequents[-2][0],6))\n",
    "print(round(anf.fittedValues[9][0],6))\n",
    "# Plotting Model Performance\n",
    "anf.plotErrors()\n",
    "anf.plotResults()"
   ]
  }
 ],
 "metadata": {
  "kernelspec": {
   "display_name": "ADP",
   "language": "python",
   "name": "adp"
  },
  "language_info": {
   "codemirror_mode": {
    "name": "ipython",
    "version": 3
   },
   "file_extension": ".py",
   "mimetype": "text/x-python",
   "name": "python",
   "nbconvert_exporter": "python",
   "pygments_lexer": "ipython3",
   "version": "3.7.4"
  }
 },
 "nbformat": 4,
 "nbformat_minor": 2
}
