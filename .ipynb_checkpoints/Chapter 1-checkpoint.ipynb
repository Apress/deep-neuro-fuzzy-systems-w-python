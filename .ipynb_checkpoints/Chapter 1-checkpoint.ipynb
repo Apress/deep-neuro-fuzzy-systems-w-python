{
 "cells": [
  {
   "cell_type": "markdown",
   "metadata": {},
   "source": [
    "# Basic Set Operation"
   ]
  },
  {
   "cell_type": "code",
   "execution_count": 1,
   "metadata": {},
   "outputs": [
    {
     "name": "stdout",
     "output_type": "stream",
     "text": [
      "Union : {0, 1, 2, 3, 4, 5, 6, 8}\n",
      "Intersection : {2, 4}\n",
      "Difference : {0, 8, 6}\n"
     ]
    }
   ],
   "source": [
    "# Example Sets \n",
    "A = {0, 2, 4, 6, 8}\n",
    "B = {1, 2, 3, 4, 5} \n",
    "  \n",
    "# union of above sets \n",
    "print(\"Union :\", A | B) \n",
    "  \n",
    "# intersection of above sets\n",
    "print(\"Intersection :\", A & B) \n",
    "  \n",
    "# difference between above sets\n",
    "print(\"Difference :\", A - B)"
   ]
  },
  {
   "cell_type": "markdown",
   "metadata": {},
   "source": [
    "# Trapezoidal Membership Function"
   ]
  },
  {
   "cell_type": "code",
   "execution_count": 2,
   "metadata": {},
   "outputs": [],
   "source": [
    "import numpy as np\n",
    "import skfuzzy as sk\n",
    "\n",
    "#Defining the Numpy array for Tip Quality\n",
    "x_qual = np.arange(0, 11, 1)\n",
    "\n",
    "#Defining the Numpy array for Trapezoidal membership functions\n",
    "qual_lo = sk.trapmf(x_qual, [0, 0, 5,5])"
   ]
  },
  {
   "cell_type": "markdown",
   "metadata": {},
   "source": [
    "# Gaussian Membership Function"
   ]
  },
  {
   "cell_type": "code",
   "execution_count": 3,
   "metadata": {},
   "outputs": [],
   "source": [
    "import numpy as np\n",
    "import skfuzzy as sk\n",
    "\n",
    "#Defining the Numpy array for Tip Quality\n",
    "x_qual = np.arange(0, 11, 1)\n",
    "\n",
    "#Defining the Numpy array for Gaussian membership functions\n",
    "qual_lo = sk.gaussmf(x_qual, np.mean(x_qual), np.std(x_qual))\n"
   ]
  },
  {
   "cell_type": "markdown",
   "metadata": {},
   "source": [
    "# Generalized Bell membership function"
   ]
  },
  {
   "cell_type": "code",
   "execution_count": 4,
   "metadata": {},
   "outputs": [],
   "source": [
    "import numpy as np\n",
    "import skfuzzy as sk\n",
    "\n",
    "#Defining the Numpy array for Tip Quality\n",
    "x_qual = np.arange(0, 11, 1)\n",
    "\n",
    "#Defining the Numpy array for Generalized Bell membership functions\n",
    "qual_lo = sk.gbellmf(x_qual, 0.5, 0.5, 0.5)\n"
   ]
  },
  {
   "cell_type": "markdown",
   "metadata": {},
   "source": [
    "# Sigmoid Membership Function"
   ]
  },
  {
   "cell_type": "code",
   "execution_count": 5,
   "metadata": {},
   "outputs": [],
   "source": [
    "import numpy as np\n",
    "import skfuzzy as sk\n",
    "\n",
    "#Defining the Numpy array for Tip Quality\n",
    "x_qual = np.arange(0, 11, 1)\n",
    "\n",
    "#Defining the Numpy array for Sigmoid membership functions\n",
    "qual_lo = sk.sigmf(x_qual, 0.5,0.5)\n"
   ]
  },
  {
   "cell_type": "markdown",
   "metadata": {},
   "source": [
    "# Fuzzy OR Operation"
   ]
  },
  {
   "cell_type": "code",
   "execution_count": 7,
   "metadata": {},
   "outputs": [
    {
     "data": {
      "text/plain": [
       "(array([ 0,  1,  2,  3,  4,  5,  6,  7,  8,  9, 10]),\n",
       " array([1. , 0.8, 0.6, 0.6, 0.8, 1. , 0.8, 0.6, 0.4, 0.2, 0. ]))"
      ]
     },
     "execution_count": 7,
     "metadata": {},
     "output_type": "execute_result"
    }
   ],
   "source": [
    "import skfuzzy as sk\n",
    "import numpy as np\n",
    "\n",
    "#Defining the Numpy array for Tip Quality\n",
    "x_qual = np.arange(0, 11, 1)\n",
    "\n",
    "#Defining the Numpy array for two membership functions (Triangular)\n",
    "qual_lo = sk.trimf(x_qual, [0, 0, 5])\n",
    "qual_md = sk.trimf(x_qual, [0, 5, 10])\n",
    "\n",
    "#Finding the Maximum (Fuzzy Or)\n",
    "sk.fuzzy_or(x_qual,qual_lo,x_qual,qual_md)\n"
   ]
  },
  {
   "cell_type": "markdown",
   "metadata": {},
   "source": [
    "# Fuzzy AND Operation"
   ]
  },
  {
   "cell_type": "code",
   "execution_count": 8,
   "metadata": {},
   "outputs": [
    {
     "data": {
      "text/plain": [
       "(array([ 0,  1,  2,  3,  4,  5,  6,  7,  8,  9, 10]),\n",
       " array([0. , 0.2, 0.4, 0.4, 0.2, 0. , 0. , 0. , 0. , 0. , 0. ]))"
      ]
     },
     "execution_count": 8,
     "metadata": {},
     "output_type": "execute_result"
    }
   ],
   "source": [
    "import skfuzzy as sk\n",
    "import numpy as np\n",
    "\n",
    "#Defining the Numpy array for Tip Quality\n",
    "x_qual = np.arange(0, 11, 1)\n",
    "\n",
    "#Defining the Numpy array for two membership functions (Triangular)\n",
    "qual_lo = sk.trimf(x_qual, [0, 0, 5])\n",
    "qual_md = sk.trimf(x_qual, [0, 5, 10])\n",
    "\n",
    "#Finding the Minimum (Fuzzy AND)\n",
    "sk.fuzzy_and(x_qual,qual_lo,x_qual,qual_md)\n"
   ]
  },
  {
   "cell_type": "markdown",
   "metadata": {},
   "source": [
    "# Fuzzy NOT Operation"
   ]
  },
  {
   "cell_type": "code",
   "execution_count": 9,
   "metadata": {},
   "outputs": [
    {
     "data": {
      "text/plain": [
       "array([0. , 0.2, 0.4, 0.6, 0.8, 1. , 1. , 1. , 1. , 1. , 1. ])"
      ]
     },
     "execution_count": 9,
     "metadata": {},
     "output_type": "execute_result"
    }
   ],
   "source": [
    "import skfuzzy as sk\n",
    "import numpy as np\n",
    "\n",
    "#Defining the Numpy array for Tip Quality\n",
    "x_qual = np.arange(0, 11, 1)\n",
    "\n",
    "#Defining the Numpy array for two membership functions (Triangular)\n",
    "qual_lo = sk.trimf(x_qual, [0, 0, 5])\n",
    "qual_md = sk.trimf(x_qual, [0, 5, 10])\n",
    "\n",
    "#Finding the Complement (Fuzzy NOT)\n",
    "sk.fuzzy_not(qual_lo)\n"
   ]
  },
  {
   "cell_type": "markdown",
   "metadata": {},
   "source": [
    "# Fuzzy Cartesian Operation"
   ]
  },
  {
   "cell_type": "code",
   "execution_count": 11,
   "metadata": {},
   "outputs": [
    {
     "data": {
      "text/plain": [
       "array([[0. , 0.2, 0.4, 0.6, 0.8, 1. , 0.8, 0.6, 0.4, 0.2, 0. ],\n",
       "       [0. , 0.2, 0.4, 0.6, 0.8, 0.8, 0.8, 0.6, 0.4, 0.2, 0. ],\n",
       "       [0. , 0.2, 0.4, 0.6, 0.6, 0.6, 0.6, 0.6, 0.4, 0.2, 0. ],\n",
       "       [0. , 0.2, 0.4, 0.4, 0.4, 0.4, 0.4, 0.4, 0.4, 0.2, 0. ],\n",
       "       [0. , 0.2, 0.2, 0.2, 0.2, 0.2, 0.2, 0.2, 0.2, 0.2, 0. ],\n",
       "       [0. , 0. , 0. , 0. , 0. , 0. , 0. , 0. , 0. , 0. , 0. ],\n",
       "       [0. , 0. , 0. , 0. , 0. , 0. , 0. , 0. , 0. , 0. , 0. ],\n",
       "       [0. , 0. , 0. , 0. , 0. , 0. , 0. , 0. , 0. , 0. , 0. ],\n",
       "       [0. , 0. , 0. , 0. , 0. , 0. , 0. , 0. , 0. , 0. , 0. ],\n",
       "       [0. , 0. , 0. , 0. , 0. , 0. , 0. , 0. , 0. , 0. , 0. ],\n",
       "       [0. , 0. , 0. , 0. , 0. , 0. , 0. , 0. , 0. , 0. , 0. ]])"
      ]
     },
     "execution_count": 11,
     "metadata": {},
     "output_type": "execute_result"
    }
   ],
   "source": [
    "import skfuzzy as sk\n",
    "import numpy as np\n",
    "\n",
    "#Defining the Numpy array for Tip Quality\n",
    "x_qual = np.arange(0, 11, 1)\n",
    "\n",
    "#Defining the Numpy array for two membership functions (Triangular)\n",
    "qual_lo = sk.trimf(x_qual, [0, 0, 5])\n",
    "qual_md = sk.trimf(x_qual, [0, 5, 10])\n",
    "\n",
    "#Finding the Product (Fuzzy Cartesian)\n",
    "sk.cartprod(qual_lo, qual_md)\n"
   ]
  },
  {
   "cell_type": "markdown",
   "metadata": {},
   "source": [
    "# Fuzzy Subtract Operation"
   ]
  },
  {
   "cell_type": "code",
   "execution_count": 13,
   "metadata": {},
   "outputs": [
    {
     "data": {
      "text/plain": [
       "(array([-10.,  -9.,  -8.,  -7.,  -6.,  -5.,  -4.,  -3.,  -2.,  -1.,   0.,\n",
       "          1.,   2.,   3.,   4.,   5.,   6.,   7.,   8.,   9.,  10.]),\n",
       " array([0. , 0.2, 0.4, 0.6, 0.8, 1. , 0.8, 0.8, 0.6, 0.6, 0.4, 0.4, 0.2,\n",
       "        0.2, 0. , 0. , 0. , 0. , 0. , 0. , 0. ]))"
      ]
     },
     "execution_count": 13,
     "metadata": {},
     "output_type": "execute_result"
    }
   ],
   "source": [
    "import skfuzzy as sk\n",
    "import numpy as np\n",
    "\n",
    "#Defining the Numpy array for Tip Quality\n",
    "x_qual = np.arange(0, 11, 1)\n",
    "\n",
    "#Defining the Numpy array for two membership functions (Triangular)\n",
    "qual_lo = sk.trimf(x_qual, [0, 0, 5])\n",
    "qual_md = sk.trimf(x_qual, [0, 5, 10])\n",
    "\n",
    "#Finding the Difference (Fuzzy Subtract)\n",
    "sk.fuzzy_sub(x_qual,qual_lo,x_qual,qual_md)\n"
   ]
  }
 ],
 "metadata": {
  "kernelspec": {
   "display_name": "ADP",
   "language": "python",
   "name": "adp"
  },
  "language_info": {
   "codemirror_mode": {
    "name": "ipython",
    "version": 3
   },
   "file_extension": ".py",
   "mimetype": "text/x-python",
   "name": "python",
   "nbconvert_exporter": "python",
   "pygments_lexer": "ipython3",
   "version": "3.7.4"
  }
 },
 "nbformat": 4,
 "nbformat_minor": 2
}
